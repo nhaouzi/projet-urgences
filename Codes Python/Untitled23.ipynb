{
 "cells": [
  {
   "cell_type": "code",
   "execution_count": 3,
   "metadata": {
    "collapsed": false
   },
   "outputs": [
    {
     "name": "stderr",
     "output_type": "stream",
     "text": [
      "/home/augustin/miniconda3/lib/python3.5/site-packages/sklearn/cross_validation.py:44: DeprecationWarning: This module was deprecated in version 0.18 in favor of the model_selection module into which all the refactored classes and functions are moved. Also note that the interface of the new CV iterators are different from that of this module. This module will be removed in 0.20.\n",
      "  \"This module will be removed in 0.20.\", DeprecationWarning)\n"
     ]
    }
   ],
   "source": [
    "# importation des packages\n",
    "import pandas as pd\n",
    "import numpy as np\n",
    "from sklearn import svm, linear_model, datasets, metrics\n",
    "import seaborn as sns\n",
    "import matplotlib.pyplot as plt\n",
    "from statsmodels.nonparametric.kde import KDEUnivariate\n",
    "from statsmodels.nonparametric import smoothers_lowess\n",
    "import xgboost as xgb\n",
    "from sklearn.cross_validation import train_test_split\n",
    "from sklearn.metrics import roc_curve, auc\n",
    "import operator\n",
    "from sklearn.ensemble import RandomForestRegressor, RandomForestClassifier\n",
    "from sklearn.linear_model import Ridge, Lasso, LinearRegression, LogisticRegression\n",
    "import plotly.plotly as py\n",
    "import plotly.graph_objs as go\n",
    "%matplotlib inline"
   ]
  },
  {
   "cell_type": "code",
   "execution_count": 2,
   "metadata": {
    "collapsed": false
   },
   "outputs": [
    {
     "ename": "ImportError",
     "evalue": "No module named xgboost",
     "output_type": "error",
     "traceback": [
      "\u001b[0;31m---------------------------------------------------------------------------\u001b[0m",
      "\u001b[0;31mImportError\u001b[0m                               Traceback (most recent call last)",
      "\u001b[0;32m<ipython-input-2-745aa3a2d734>\u001b[0m in \u001b[0;36m<module>\u001b[0;34m()\u001b[0m\n\u001b[0;32m----> 1\u001b[0;31m \u001b[0;32mimport\u001b[0m \u001b[0mxgboost\u001b[0m \u001b[0;32mas\u001b[0m \u001b[0mxgb\u001b[0m\u001b[0;34m\u001b[0m\u001b[0m\n\u001b[0m",
      "\u001b[0;31mImportError\u001b[0m: No module named xgboost"
     ]
    }
   ],
   "source": [
    "import xgboost as xgb"
   ]
  },
  {
   "cell_type": "code",
   "execution_count": 16,
   "metadata": {
    "collapsed": true
   },
   "outputs": [],
   "source": [
    "class LinearRegression(linear_model.LinearRegression):\n",
    "    \"\"\"\n",
    "    LinearRegression class after sklearn's, but calculate t-statistics\n",
    "    and p-values for model coefficients (betas).\n",
    "    Additional attributes available after .fit()\n",
    "    are `t` and `p` which are of the shape (y.shape[1], X.shape[1])\n",
    "    which is (n_features, n_coefs)\n",
    "    This class sets the intercept to 0 by default, since usually we include it\n",
    "    in X.\n",
    "    \"\"\"\n",
    "\n",
    "    def __init__(self, *args, **kwargs):\n",
    "        if not \"fit_intercept\" in kwargs:\n",
    "            kwargs['fit_intercept'] = False\n",
    "        super(LinearRegression, self)\\\n",
    "                .__init__(*args, **kwargs)\n",
    "\n",
    "    def fit(self, X, y, n_jobs=1):\n",
    "        self = super(LinearRegression, self).fit(X, y, n_jobs)\n",
    "\n",
    "        sse = np.sum((self.predict(X) - y) ** 2, axis=0) / float(X.shape[0] - X.shape[1])\n",
    "        se = np.array([\n",
    "            np.sqrt(np.diagonal(sse[i] * np.linalg.inv(np.dot(X.T, X))))\n",
    "                                                    for i in range(sse.shape[0])\n",
    "                    ])\n",
    "\n",
    "        self.t = self.coef_ / se\n",
    "        self.p = 2 * (1 - stats.t.cdf(np.abs(self.t), y.shape[0] - X.shape[1]))\n",
    "        return self\n",
    "    \n",
    "def mape(a, b):\n",
    "    mask = a != 0\n",
    "    return ((abs(a-b)/a)[mask].mean())"
   ]
  },
  {
   "cell_type": "code",
   "execution_count": 17,
   "metadata": {
    "collapsed": false
   },
   "outputs": [],
   "source": [
    "#Importation des tables\n",
    "base = pd.read_csv('./base_tot_finale.csv', sep = ';')"
   ]
  },
  {
   "cell_type": "code",
   "execution_count": 18,
   "metadata": {
    "collapsed": false
   },
   "outputs": [],
   "source": [
    "base = base[np.isfinite(base['D.total'])]\n",
    "base = base.drop(['TS.adm', 'TS.med'], axis = 1) \n",
    "base = base[base['tri.iao']!=1]"
   ]
  },
  {
   "cell_type": "code",
   "execution_count": 19,
   "metadata": {
    "collapsed": false
   },
   "outputs": [],
   "source": [
    "base = base.drop(['min_adm', 'annee'], axis = 1 )"
   ]
  },
  {
   "cell_type": "code",
   "execution_count": 20,
   "metadata": {
    "collapsed": false
   },
   "outputs": [],
   "source": [
    "X = base.drop('D.total', axis = 1)\n",
    "Y = base['D.total']\n",
    "#X['tri.iao'] = X['tri.iao'].apply(str)"
   ]
  },
  {
   "cell_type": "code",
   "execution_count": 21,
   "metadata": {
    "collapsed": false
   },
   "outputs": [],
   "source": [
    "#OneHotEncoding pour le XGboost\n",
    "X_sparse = pd.get_dummies(X, dummy_na=True) "
   ]
  },
  {
   "cell_type": "code",
   "execution_count": 22,
   "metadata": {
    "collapsed": false
   },
   "outputs": [],
   "source": [
    "# On sépare notre base 'train' (celle où on a les labels à disposition) en trois différentes bases : \n",
    "# Train : 60pct\n",
    "# Test 20 pct\n",
    "# Validation 20 pct\n",
    "\n",
    "X_train, X_inter, y_train, y_inter = train_test_split(X_sparse, Y, test_size=0.4, random_state=123)\n",
    "X_test, X_validation, y_test, y_validation = train_test_split(X_inter, y_inter, test_size=0.5, random_state=42)\n",
    "\n",
    "X_train_glm, X_inter_glm, y_train_glm, y_inter_glm = train_test_split(X, Y, test_size=0.4, random_state=123)\n",
    "X_test_glm, X_validation_glm, y_test_glm, y_validation_glm = train_test_split(X_inter_glm, y_inter_glm, test_size=0.5, random_state=42)"
   ]
  },
  {
   "cell_type": "code",
   "execution_count": 30,
   "metadata": {
    "collapsed": false
   },
   "outputs": [
    {
     "name": "stdout",
     "output_type": "stream",
     "text": [
      "Fitting 3 folds for each of 60 candidates, totalling 180 fits\n"
     ]
    },
    {
     "name": "stderr",
     "output_type": "stream",
     "text": [
      "[Parallel(n_jobs=-1)]: Done  34 tasks      | elapsed:  1.2min\n",
      "[Parallel(n_jobs=-1)]: Done 180 out of 180 | elapsed:  8.1min finished\n"
     ]
    },
    {
     "name": "stdout",
     "output_type": "stream",
     "text": [
      "{'learning_rate': 0.05, 'objective': 'count:poisson', 'min_child_weight': 50, 'max_depth': 3}\n"
     ]
    }
   ],
   "source": [
    "# On cherche l'eta et la profondeur max optimaux pour notre XGB en faisait de la Cross-Validation\n",
    "from sklearn.model_selection import GridSearchCV\n",
    "from sklearn.cross_validation import StratifiedKFold\n",
    "\n",
    "gbm = xgb.XGBRegressor()\n",
    "gbm_params = {\n",
    "    'objective': ['count:poisson'],\n",
    "    'learning_rate': [0.001, 0.01, 0.05, 0.1],\n",
    "    'max_depth': [3, 4, 6, 8, 10],\n",
    "    'min_child_weight' : [1, 10, 50]\n",
    "}\n",
    "grid = GridSearchCV(gbm, gbm_params,verbose=1,n_jobs=-1)\n",
    "grid.fit(X_train, y_train)\n",
    "\n",
    "print (grid.best_params_)"
   ]
  },
  {
   "cell_type": "code",
   "execution_count": 42,
   "metadata": {
    "collapsed": false
   },
   "outputs": [],
   "source": [
    "# On effectue notre XGBOOST avec eta = 0.1 et max depth = 10 car meilleurs valeurs d'après la CV d'avant\n",
    "# On prend merror comme eval_metric car multiclass\n",
    "\n",
    "params = {\n",
    "    'objective': 'reg:gamma',\n",
    "    'min_child_weight': 50,\n",
    "    'eta': 0.05,\n",
    "    'max_depth': 3,\n",
    "    'verbose_eval': True,\n",
    "    'nthread':8,\n",
    "    'eval_metric':'rmse',\n",
    "    'colsample_bytree' : 1,\n",
    "    'subsample' : 1\n",
    "}\n",
    "xgtrain = xgb.DMatrix(X_train, label=y_train)\n",
    "xgvalidation = xgb.DMatrix(X_validation, label=y_validation)\n",
    "xgtest = xgb.DMatrix(X_test)\n",
    "watchlist = [ (xgtrain,'train'), (xgvalidation,'validation')]\n",
    "model = xgb.train(params, xgtrain, 1000, watchlist, early_stopping_rounds=200, verbose_eval =False)\n",
    "\n",
    "y_train_xgb = model.predict(xgtrain)\n",
    "y_test_xgb = model.predict(xgtest)\n",
    "validation = model.predict(xgvalidation)\n",
    "\n",
    "model.save_model('xgboost_hopital.model')"
   ]
  },
  {
   "cell_type": "code",
   "execution_count": 43,
   "metadata": {
    "collapsed": false
   },
   "outputs": [
    {
     "data": {
      "text/plain": [
       "0.58828294014465632"
      ]
     },
     "execution_count": 43,
     "metadata": {},
     "output_type": "execute_result"
    }
   ],
   "source": [
    "mape(y_test_xgb, y_test)"
   ]
  },
  {
   "cell_type": "code",
   "execution_count": 44,
   "metadata": {
    "collapsed": false
   },
   "outputs": [
    {
     "data": {
      "text/plain": [
       "28.322699985599982"
      ]
     },
     "execution_count": 44,
     "metadata": {},
     "output_type": "execute_result"
    }
   ],
   "source": [
    "#Précision de notre modèle : \n",
    "metrics.mean_absolute_error(y_test_xgb, y_test)"
   ]
  },
  {
   "cell_type": "code",
   "execution_count": 34,
   "metadata": {
    "collapsed": true
   },
   "outputs": [],
   "source": [
    "## On veut afficher l'importance des variables du XGboost\n",
    "importance = model.get_fscore()\n",
    "importance = sorted(importance.items(), key=operator.itemgetter(1))"
   ]
  },
  {
   "cell_type": "code",
   "execution_count": 35,
   "metadata": {
    "collapsed": true
   },
   "outputs": [],
   "source": [
    "df = pd.DataFrame(importance, columns=['feature', 'fscore'])\n",
    "df['fscore'] = df['fscore'] / df['fscore'].sum()"
   ]
  },
  {
   "cell_type": "code",
   "execution_count": 28,
   "metadata": {
    "collapsed": false
   },
   "outputs": [
    {
     "data": {
      "text/plain": [
       "<matplotlib.text.Text at 0x7f12f68472e8>"
      ]
     },
     "execution_count": 28,
     "metadata": {},
     "output_type": "execute_result"
    },
    {
     "data": {
      "text/plain": [
       "<matplotlib.figure.Figure at 0x7f12f6770048>"
      ]
     },
     "metadata": {},
     "output_type": "display_data"
    },
    {
     "data": {
      "image/png": "[encoded data removed]",
      "text/plain": [
       "<matplotlib.figure.Figure at 0x7f12f6770dd8>"
      ]
     },
     "metadata": {},
     "output_type": "display_data"
    },
    {
     "data": {
      "image/png": "[encoded data removed]",
      "text/plain": [
       "<matplotlib.figure.Figure at 0x7f12f3d16358>"
      ]
     },
     "metadata": {},
     "output_type": "display_data"
    }
   ],
   "source": [
    "plt.figure()\n",
    "df.iloc[-40:].plot()\n",
    "df.iloc[-40:].plot(kind='barh', x='feature', y='fscore', legend=False, figsize=(6, 10))\n",
    "plt.title('XGBoost Feature Importance')\n",
    "plt.xlabel('relative importance')"
   ]
  },
  {
   "cell_type": "code",
   "execution_count": null,
   "metadata": {
    "collapsed": false
   },
   "outputs": [],
   "source": [
    "base_glm = base\n",
    "base_glm['tri.iao'] = base['tri.iao'].apply(str)\n",
    "base_glm['mois'] = base['mois'].apply(str)\n",
    "base_glm['tri.iao'] = base['tri.iao'].apply(str)\n",
    "base_glm['annee'] = base['annee'].apply(str)\n",
    "base_glm['heure_adm'] = base['heure_adm'].apply(str)"
   ]
  },
  {
   "cell_type": "code",
   "execution_count": null,
   "metadata": {
    "collapsed": false
   },
   "outputs": [],
   "source": [
    "X = base_glm[['tri.iao', 'nb_pers_attente', 'jour_mois', 'mois', 'annee']]\n",
    "Y = base_glm['D.total']"
   ]
  },
  {
   "cell_type": "code",
   "execution_count": null,
   "metadata": {
    "collapsed": false
   },
   "outputs": [],
   "source": [
    "# Create linear regression object\n",
    "regr = linear_model.LinearRegression()\n",
    "\n",
    "# Train the model using the training sets\n",
    "regr.fit(X, Y)"
   ]
  },
  {
   "cell_type": "code",
   "execution_count": null,
   "metadata": {
    "collapsed": false
   },
   "outputs": [],
   "source": [
    "# The coefficients\n",
    "print('Coefficients: \\n', regr.coef_)\n",
    "# The mean squared error\n",
    "print(\"Mean squared error: %.2f\"\n",
    "      % np.mean((regr.predict(X) - Y) ** 2))\n",
    "# Explained variance score: 1 is perfect prediction\n",
    "print('Variance score: %.2f' % regr.score(X, Y))"
   ]
  },
  {
   "cell_type": "code",
   "execution_count": null,
   "metadata": {
    "collapsed": false
   },
   "outputs": [],
   "source": [
    "pd.DataFrame(list(zip(X.columns, regr.coef_)), columns = ['Variables', 'Coefficients'])"
   ]
  },
  {
   "cell_type": "code",
   "execution_count": null,
   "metadata": {
    "collapsed": false
   },
   "outputs": [],
   "source": [
    "X_train_glm = X_train_glm.drop('jour_semaine', axis = 1)\n",
    "X_test_glm = X_test_glm.drop('jour_semaine', axis = 1)"
   ]
  },
  {
   "cell_type": "code",
   "execution_count": null,
   "metadata": {
    "collapsed": false
   },
   "outputs": [],
   "source": [
    "import pandas as pd\n",
    "import numpy as np\n",
    "from sklearn import datasets, linear_model\n",
    "from sklearn.linear_model import LinearRegression\n",
    "import statsmodels.api as sm\n",
    "from scipy import stats\n",
    "\n",
    "X2 = sm.add_constant(X_train_glm)\n",
    "est = sm.GLM(y_train_glm, X2)\n",
    "est2 = est.fit()\n",
    "print(est2.summary())"
   ]
  },
  {
   "cell_type": "code",
   "execution_count": null,
   "metadata": {
    "collapsed": false
   },
   "outputs": [],
   "source": [
    "pred_glm = est2.predict(sm.add_constant(X_test_glm))\n",
    "pred_moyenne = np.repeat(y_train_glm.mean(), len(y_test_glm), axis=0)\n",
    "#Précision de notre modèle : \n",
    "metrics.mean_absolute_error(pred_moyenne, y_test_glm)"
   ]
  },
  {
   "cell_type": "code",
   "execution_count": null,
   "metadata": {
    "collapsed": false
   },
   "outputs": [],
   "source": [
    "metrics.mean_absolute_error(pred_glm, y_test_glm)\n"
   ]
  },
  {
   "cell_type": "code",
   "execution_count": null,
   "metadata": {
    "collapsed": false
   },
   "outputs": [],
   "source": [
    "metrics.mean_absolute_error(pred_moyenne, pred_moyenne + 30)"
   ]
  },
  {
   "cell_type": "code",
   "execution_count": null,
   "metadata": {
    "collapsed": true
   },
   "outputs": [],
   "source": []
  },
  {
   "cell_type": "code",
   "execution_count": null,
   "metadata": {
    "collapsed": true
   },
   "outputs": [],
   "source": []
  },
  {
   "cell_type": "code",
   "execution_count": null,
   "metadata": {
    "collapsed": false
   },
   "outputs": [],
   "source": []
  },
  {
   "cell_type": "code",
   "execution_count": 4,
   "metadata": {
    "collapsed": false
   },
   "outputs": [],
   "source": [
    "base_2013_2014 = pd.read_csv('./base_tot_finale.csv', sep = ',')"
   ]
  },
  {
   "cell_type": "code",
   "execution_count": null,
   "metadata": {
    "collapsed": true
   },
   "outputs": [],
   "source": [
    "base_2013_2014 = pd.read_csv('./base_tot_finale.csv', sep = ',')"
   ]
  },
  {
   "cell_type": "code",
   "execution_count": 5,
   "metadata": {
    "collapsed": false
   },
   "outputs": [
    {
     "data": {
      "text/plain": [
       "'2013-04-13 16:14:15'"
      ]
     },
     "execution_count": 5,
     "metadata": {},
     "output_type": "execute_result"
    }
   ],
   "source": [
    "var_input = pd.read_csv('/home/augustin/FlaskApp/input0.csv', sep = ',')\n",
    "var_input['TS.adm'][0]\n",
    " \n",
    "\n"
   ]
  },
  {
   "cell_type": "code",
   "execution_count": 6,
   "metadata": {
    "collapsed": false
   },
   "outputs": [
    {
     "data": {
      "text/html": [
       "<div>\n",
       "<table border=\"1\" class=\"dataframe\">\n",
       "  <thead>\n",
       "    <tr style=\"text-align: right;\">\n",
       "      <th></th>\n",
       "      <th>TS.adm</th>\n",
       "      <th>tri.iao</th>\n",
       "      <th>D.total</th>\n",
       "      <th>jour_semaine</th>\n",
       "      <th>mois</th>\n",
       "      <th>annee</th>\n",
       "      <th>jour_mois</th>\n",
       "      <th>heure_adm</th>\n",
       "      <th>min_adm</th>\n",
       "      <th>TS.med</th>\n",
       "      <th>nb_pers_attente</th>\n",
       "      <th>attente_iao1</th>\n",
       "      <th>attente_iao2</th>\n",
       "      <th>attente_iao3</th>\n",
       "      <th>attente_moyenne</th>\n",
       "      <th>moyenne_iao1</th>\n",
       "      <th>moyenne_iao2</th>\n",
       "      <th>moyenne_iao3</th>\n",
       "    </tr>\n",
       "  </thead>\n",
       "  <tbody>\n",
       "    <tr>\n",
       "      <th>0</th>\n",
       "      <td>2013-01-01 00:08:00</td>\n",
       "      <td>3</td>\n",
       "      <td>80</td>\n",
       "      <td>Mardi</td>\n",
       "      <td>1</td>\n",
       "      <td>2013</td>\n",
       "      <td>1</td>\n",
       "      <td>0</td>\n",
       "      <td>8</td>\n",
       "      <td>2013-01-01 01:28:00</td>\n",
       "      <td>0</td>\n",
       "      <td>0</td>\n",
       "      <td>0</td>\n",
       "      <td>0</td>\n",
       "      <td>-999.0</td>\n",
       "      <td>-999.0</td>\n",
       "      <td>-999.0</td>\n",
       "      <td>-999.0</td>\n",
       "    </tr>\n",
       "    <tr>\n",
       "      <th>1</th>\n",
       "      <td>2013-01-01 00:22:00</td>\n",
       "      <td>3</td>\n",
       "      <td>70</td>\n",
       "      <td>Mardi</td>\n",
       "      <td>1</td>\n",
       "      <td>2013</td>\n",
       "      <td>1</td>\n",
       "      <td>0</td>\n",
       "      <td>22</td>\n",
       "      <td>2013-01-01 01:32:00</td>\n",
       "      <td>1</td>\n",
       "      <td>0</td>\n",
       "      <td>0</td>\n",
       "      <td>1</td>\n",
       "      <td>-999.0</td>\n",
       "      <td>-999.0</td>\n",
       "      <td>-999.0</td>\n",
       "      <td>-999.0</td>\n",
       "    </tr>\n",
       "    <tr>\n",
       "      <th>2</th>\n",
       "      <td>2013-01-01 00:59:00</td>\n",
       "      <td>3</td>\n",
       "      <td>65</td>\n",
       "      <td>Mardi</td>\n",
       "      <td>1</td>\n",
       "      <td>2013</td>\n",
       "      <td>1</td>\n",
       "      <td>0</td>\n",
       "      <td>59</td>\n",
       "      <td>2013-01-01 02:04:00</td>\n",
       "      <td>2</td>\n",
       "      <td>0</td>\n",
       "      <td>0</td>\n",
       "      <td>2</td>\n",
       "      <td>-999.0</td>\n",
       "      <td>-999.0</td>\n",
       "      <td>-999.0</td>\n",
       "      <td>-999.0</td>\n",
       "    </tr>\n",
       "    <tr>\n",
       "      <th>3</th>\n",
       "      <td>2013-01-01 01:37:00</td>\n",
       "      <td>3</td>\n",
       "      <td>37</td>\n",
       "      <td>Mardi</td>\n",
       "      <td>1</td>\n",
       "      <td>2013</td>\n",
       "      <td>1</td>\n",
       "      <td>1</td>\n",
       "      <td>37</td>\n",
       "      <td>2013-01-01 02:14:00</td>\n",
       "      <td>1</td>\n",
       "      <td>0</td>\n",
       "      <td>0</td>\n",
       "      <td>1</td>\n",
       "      <td>75.0</td>\n",
       "      <td>-999.0</td>\n",
       "      <td>-999.0</td>\n",
       "      <td>75.0</td>\n",
       "    </tr>\n",
       "    <tr>\n",
       "      <th>4</th>\n",
       "      <td>2013-01-01 01:55:00</td>\n",
       "      <td>2</td>\n",
       "      <td>31</td>\n",
       "      <td>Mardi</td>\n",
       "      <td>1</td>\n",
       "      <td>2013</td>\n",
       "      <td>1</td>\n",
       "      <td>1</td>\n",
       "      <td>55</td>\n",
       "      <td>2013-01-01 02:26:00</td>\n",
       "      <td>2</td>\n",
       "      <td>0</td>\n",
       "      <td>0</td>\n",
       "      <td>2</td>\n",
       "      <td>75.0</td>\n",
       "      <td>-999.0</td>\n",
       "      <td>-999.0</td>\n",
       "      <td>75.0</td>\n",
       "    </tr>\n",
       "  </tbody>\n",
       "</table>\n",
       "</div>"
      ],
      "text/plain": [
       "                TS.adm  tri.iao  D.total jour_semaine  mois  annee  jour_mois  \\\n",
       "0  2013-01-01 00:08:00        3       80        Mardi     1   2013          1   \n",
       "1  2013-01-01 00:22:00        3       70        Mardi     1   2013          1   \n",
       "2  2013-01-01 00:59:00        3       65        Mardi     1   2013          1   \n",
       "3  2013-01-01 01:37:00        3       37        Mardi     1   2013          1   \n",
       "4  2013-01-01 01:55:00        2       31        Mardi     1   2013          1   \n",
       "\n",
       "   heure_adm  min_adm               TS.med  nb_pers_attente  attente_iao1  \\\n",
       "0          0        8  2013-01-01 01:28:00                0             0   \n",
       "1          0       22  2013-01-01 01:32:00                1             0   \n",
       "2          0       59  2013-01-01 02:04:00                2             0   \n",
       "3          1       37  2013-01-01 02:14:00                1             0   \n",
       "4          1       55  2013-01-01 02:26:00                2             0   \n",
       "\n",
       "   attente_iao2  attente_iao3  attente_moyenne  moyenne_iao1  moyenne_iao2  \\\n",
       "0             0             0           -999.0        -999.0        -999.0   \n",
       "1             0             1           -999.0        -999.0        -999.0   \n",
       "2             0             2           -999.0        -999.0        -999.0   \n",
       "3             0             1             75.0        -999.0        -999.0   \n",
       "4             0             2             75.0        -999.0        -999.0   \n",
       "\n",
       "   moyenne_iao3  \n",
       "0        -999.0  \n",
       "1        -999.0  \n",
       "2        -999.0  \n",
       "3          75.0  \n",
       "4          75.0  "
      ]
     },
     "execution_count": 6,
     "metadata": {},
     "output_type": "execute_result"
    }
   ],
   "source": [
    "base_2013_2014.head()"
   ]
  },
  {
   "cell_type": "code",
   "execution_count": 9,
   "metadata": {
    "collapsed": false
   },
   "outputs": [],
   "source": [
    "from datetime import datetime\n",
    "FMT = '%Y-%m-%d %H:%M:%S'\n",
    "dates_list_adm = [datetime.strptime(date, FMT) for date in base_2013_2014['TS.adm']]\n",
    "dates_list_med = [datetime.strptime(date, FMT) for date in base_2013_2014['TS.med']]\n",
    "\n",
    "def compte_file_attente(dates_list_adm, dates_list_med, evt, vect_iao):\n",
    "    vect_a_comparer = np.repeat(datetime.strptime(evt, FMT), len(dates_list_adm), axis=0)\n",
    "    tmps_date_adm = pd.DataFrame(vect_a_comparer - dates_list_adm, columns=['diff'])\n",
    "    tmps_date_med = pd.DataFrame(vect_a_comparer - dates_list_med, columns=['diff'])\n",
    "    \n",
    "    tmp1 = tmps_date_adm>0\n",
    "    tmp1 = tmp1['diff']\n",
    "    tmp2 = tmps_date_med<0\n",
    "    tmp2 = tmp2['diff']\n",
    "    tmp_iao_1 = vect_iao == 1\n",
    "    tmp_iao_2 = vect_iao == 2\n",
    "    tmp_iao_3 = vect_iao == 3\n",
    "    \n",
    "    indice_all = tmp1 & tmp2\n",
    "    indice_iao_1 = indice_all & tmp_iao_1\n",
    "    indice_iao_2 = indice_all & tmp_iao_2\n",
    "    indice_iao_3 = indice_all & tmp_iao_3\n",
    "\n",
    "    return([sum(indice_all.values),\n",
    "    sum(indice_iao_1),\n",
    "    sum(indice_iao_2),\n",
    "    sum(indice_iao_3)])"
   ]
  },
  {
   "cell_type": "code",
   "execution_count": 281,
   "metadata": {
    "collapsed": false
   },
   "outputs": [],
   "source": [
    "def moyenne_file_attente_par_iao(dates_list_adm, dates_list_med, evt, vect_iao, fenetre_heure = 2, FMT = '%Y-%m-%d %H:%M:%S'):\n",
    "# trier la base par date de ts.adm peut etre plus rapide\n",
    "    vect_a_comparer = np.repeat(datetime.strptime(evt, FMT), len(dates_list_adm), axis=0)\n",
    "    tmps_date_med = vect_a_comparer - dates_list_med\n",
    "    tmp_base = [date.days*24 + date.seconds/3600  for date in tmps_date_med]\n",
    "    base_tps_attente = [a - b for a, b in zip(dates_list_med, dates_list_adm)]\n",
    "    attente_heure = [date.days*24 + date.seconds/3600  for date in base_tps_attente]\n",
    "    \n",
    "    tmp1 = pd.DataFrame(tmp_base, columns= ['diff']) < fenetre_heure \n",
    "    tmp2 = pd.DataFrame(tmp_base, columns= ['diff'])> 0\n",
    "    tmp_iao_1 = vect_iao == 1\n",
    "    tmp_iao_2 = vect_iao == 2\n",
    "    tmp_iao_3 = vect_iao == 3\n",
    "    \n",
    "    indice_all = tmp1 & tmp2\n",
    "    indice_all = indice_all['diff']\n",
    "    indice_iao_1 = indice_all & tmp_iao_1\n",
    "    indice_iao_2 = indice_all & tmp_iao_2\n",
    "    indice_iao_3 = indice_all & tmp_iao_3\n",
    "\n",
    "    \n",
    "    df_attente = pd.DataFrame(attente_min, columns=['temps_attente'])\n",
    "    return(np.mean(df_attente[indice_all]), np.mean(df_attente[indice_iao_1])\n",
    "          , np.mean(df_attente[indice_iao_2]), np.mean(df_attente[indice_iao_3])) \n",
    "    \n",
    "     \n"
   ]
  },
  {
   "cell_type": "code",
   "execution_count": 338,
   "metadata": {
    "collapsed": false
   },
   "outputs": [
    {
     "data": {
      "text/html": [
       "<div>\n",
       "<table border=\"1\" class=\"dataframe\">\n",
       "  <thead>\n",
       "    <tr style=\"text-align: right;\">\n",
       "      <th></th>\n",
       "      <th>tri.iao</th>\n",
       "      <th>attente_moyenne</th>\n",
       "      <th>attente_moyenne_iao1</th>\n",
       "      <th>attente_moyenne_iao2</th>\n",
       "      <th>attente_moyenne_iao3</th>\n",
       "      <th>nb_pers_attente</th>\n",
       "      <th>nb_pers_attente_iao1</th>\n",
       "      <th>nb_pers_attente_iao2</th>\n",
       "      <th>nb_pers_attente_iao3</th>\n",
       "    </tr>\n",
       "  </thead>\n",
       "  <tbody>\n",
       "    <tr>\n",
       "      <th>0</th>\n",
       "      <td>3</td>\n",
       "      <td>48.416667</td>\n",
       "      <td>NaN</td>\n",
       "      <td>27.0</td>\n",
       "      <td>59.125</td>\n",
       "      <td>4</td>\n",
       "      <td>0</td>\n",
       "      <td>3</td>\n",
       "      <td>1</td>\n",
       "    </tr>\n",
       "  </tbody>\n",
       "</table>\n",
       "</div>"
      ],
      "text/plain": [
       "   tri.iao  attente_moyenne  attente_moyenne_iao1  attente_moyenne_iao2  \\\n",
       "0        3        48.416667                   NaN                  27.0   \n",
       "\n",
       "   attente_moyenne_iao3  nb_pers_attente  nb_pers_attente_iao1  \\\n",
       "0                59.125                4                     0   \n",
       "\n",
       "   nb_pers_attente_iao2  nb_pers_attente_iao3  \n",
       "0                     3                     1  "
      ]
     },
     "execution_count": 338,
     "metadata": {},
     "output_type": "execute_result"
    }
   ],
   "source": [
    "comptage = compte_file_attente(dates_list_adm, dates_list_med, var_input['TS.adm'][0], base_2013_2014['tri.iao'] )\n",
    "moyenne = moyenne_file_attente_par_iao(dates_list_adm, dates_list_med, var_input['TS.adm'][0], base_2013_2014['tri.iao'])\n",
    "\n",
    "\n",
    "var_tri_iao = var_input['tri.iao'][0]\n",
    "moyenne_attente_all = moyenne[0][0]\n",
    "moyenne_attente_iao1 = moyenne[1][0]\n",
    "moyenne_attente_iao2 = moyenne[2][0]\n",
    "moyenne_attente_iao3 = moyenne[3][0]\n",
    "nb_attente_all = comptage[0]\n",
    "nb_attente_iao1 = comptage[1]\n",
    "nb_attente_iao2 = comptage[2]\n",
    "nb_attente_iao3 = comptage[3]\n",
    "\n",
    "pd.DataFrame([(var_tri_iao, moyenne_attente_all, moyenne_attente_iao1, moyenne_attente_iao2, moyenne_attente_iao3,\n",
    "              nb_attente_all, nb_attente_iao1, nb_attente_iao2, nb_attente_iao3 )], \n",
    "             columns=['tri.iao', 'attente_moyenne', 'attente_moyenne_iao1', 'attente_moyenne_iao2',\n",
    "                     'attente_moyenne_iao3', 'nb_pers_attente', 'nb_pers_attente_iao1', 'nb_pers_attente_iao2', 'nb_pers_attente_iao3'])"
   ]
  },
  {
   "cell_type": "code",
   "execution_count": 355,
   "metadata": {
    "collapsed": false
   },
   "outputs": [],
   "source": [
    "def Jour_semaine(date):\n",
    "    if date.strftime('%w') == '0':\n",
    "        result = 'Dimanche'\n",
    "    elif date.strftime('%w') == '1':\n",
    "        result = 'Lundi'\n",
    "    elif date.strftime('%w') == '2':\n",
    "        result = 'Mardi'\n",
    "    elif date.strftime('%w') == '3':\n",
    "        result = 'Mercredi'\n",
    "    elif date.strftime('%w') == '4':\n",
    "        result = 'Jeudi'\n",
    "    elif date.strftime('%w') == '5':\n",
    "        result = 'Vendredi'\n",
    "    elif date.strftime('%w') == '6':\n",
    "        result = 'Samedi'\n",
    "    return result\n",
    "    \n",
    "mois = datetime.strptime(var_input['TS.adm'][0], FMT).strftime('%m')\n",
    "jour_mois = datetime.strptime(var_input['TS.adm'][0], FMT).strftime('%d')\n",
    "heure = datetime.strptime(var_input['TS.adm'][0], FMT).strftime('%H')\n",
    "jour_semaine = Jour_semaine(datetime.strptime(var_input['TS.adm'][0], FMT))"
   ]
  },
  {
   "cell_type": "code",
   "execution_count": 1,
   "metadata": {
    "collapsed": false,
    "scrolled": true
   },
   "outputs": [
    {
     "name": "stderr",
     "output_type": "stream",
     "text": [
      "/home/augustin/miniconda3/lib/python3.5/site-packages/sklearn/cross_validation.py:44: DeprecationWarning: This module was deprecated in version 0.18 in favor of the model_selection module into which all the refactored classes and functions are moved. Also note that the interface of the new CV iterators are different from that of this module. This module will be removed in 0.20.\n",
      "  \"This module will be removed in 0.20.\", DeprecationWarning)\n"
     ]
    }
   ],
   "source": [
    "import pandas as pd\n",
    "import xgboost as xgb\n",
    "\n",
    "prediction = pd.read_csv('/home/augustin/FlaskApp/input.csv', sep = ',')\n",
    "model = xgb.Booster()\n",
    "model.load_model('xgboost_hopital.model')\n",
    "prediction = xgb.DMatrix(prediction)\n",
    "prediction = model.predict(prediction)"
   ]
  },
  {
   "cell_type": "code",
   "execution_count": 2,
   "metadata": {
    "collapsed": true
   },
   "outputs": [],
   "source": [
    "import pandas as pd\n",
    "prediction = pd.read_csv('/Users/noemiehaouzi/Desktop/ENSAE_3A/S2/Projet info/Git/projet-urgences/Codes Python/input.csv', sep = ',')\n"
   ]
  },
  {
   "cell_type": "code",
   "execution_count": 18,
   "metadata": {
    "collapsed": false
   },
   "outputs": [
    {
     "name": "stderr",
     "output_type": "stream",
     "text": [
      " * Running on http://127.0.0.1:5000/ (Press CTRL+C to quit)\n",
      "127.0.0.1 - - [21/Apr/2017 11:17:33] \"GET / HTTP/1.1\" 404 -\n",
      "127.0.0.1 - - [21/Apr/2017 11:17:37] \"GET /main HTTP/1.1\" 200 -\n",
      "127.0.0.1 - - [21/Apr/2017 11:17:37] \"GET /main HTTP/1.1\" 200 -\n"
     ]
    }
   ],
   "source": [
    "from flask import Flask, render_template\n",
    "from flask import jsonify\n",
    "\n",
    "json_file = [\n",
    "    {\n",
    "        'id':1,\n",
    "        'prediction':str(20)\n",
    "    },\n",
    "    {\n",
    "        'id':2,\n",
    "        'prediction':str(21)\n",
    "    }\n",
    "]\n",
    "\n",
    "\n",
    "app = Flask(__name__)\n",
    "@app.route(\"/main\")\n",
    "def main():\n",
    "\treturn jsonify(json_file)\n",
    "if __name__ == \"__main__\":\n",
    "    app.run()"
   ]
  },
  {
   "cell_type": "code",
   "execution_count": 6,
   "metadata": {
    "collapsed": true
   },
   "outputs": [],
   "source": [
    "from flask import Flask, render_template\n",
    "from flask import jsonify\n",
    "from flask import request\n",
    "import cgi\n",
    "import cgitb; cgitb.enable() # Optional; for debugging only\n",
    "\n",
    "from flask import jsonify"
   ]
  },
  {
   "cell_type": "code",
   "execution_count": 11,
   "metadata": {
    "collapsed": false
   },
   "outputs": [],
   "source": [
    "app = Flask(__name__)\n",
    "@app.route(\"/main\")\n",
    "def main(): \n",
    "    app.debug = True\n",
    "    TS = request.args.get('TS')\n",
    "    print TS\n",
    "    json_file = [\n",
    "    {\n",
    "        'id':1,\n",
    "        'prediction_iao2':20,\n",
    "        'prediction_iao3':40\n",
    "    },\n",
    "    {\n",
    "        'id':2,\n",
    "        'prediction_iao2':int(22),\n",
    "        'prediction_iao3':47\n",
    "    }\n",
    "    ]\n",
    "\n",
    "    return jsonify(json_file)"
   ]
  },
  {
   "cell_type": "code",
   "execution_count": 12,
   "metadata": {
    "collapsed": false
   },
   "outputs": [
    {
     "name": "stderr",
     "output_type": "stream",
     "text": [
      " * Running on http://127.0.0.1:5000/ (Press CTRL+C to quit)\n",
      "127.0.0.1 - - [21/Apr/2017 16:55:08] \"GET /main HTTP/1.1\" 500 -\n",
      "Error on request:\n",
      "Traceback (most recent call last):\n",
      "  File \"/Users/anaconda/lib/python2.7/site-packages/werkzeug/serving.py\", line 180, in run_wsgi\n",
      "    execute(self.server.app)\n",
      "  File \"/Users/anaconda/lib/python2.7/site-packages/werkzeug/serving.py\", line 168, in execute\n",
      "    application_iter = app(environ, start_response)\n",
      "  File \"/Users/anaconda/lib/python2.7/site-packages/flask/app.py\", line 1836, in __call__\n",
      "    return self.wsgi_app(environ, start_response)\n",
      "  File \"/Users/anaconda/lib/python2.7/site-packages/flask/app.py\", line 1820, in wsgi_app\n",
      "    response = self.make_response(self.handle_exception(e))\n",
      "  File \"/Users/anaconda/lib/python2.7/site-packages/flask/app.py\", line 1403, in handle_exception\n",
      "    reraise(exc_type, exc_value, tb)\n",
      "  File \"/Users/anaconda/lib/python2.7/site-packages/flask/app.py\", line 1817, in wsgi_app\n",
      "    response = self.full_dispatch_request()\n",
      "  File \"/Users/anaconda/lib/python2.7/site-packages/flask/app.py\", line 1478, in full_dispatch_request\n",
      "    response = self.make_response(rv)\n",
      "  File \"/Users/anaconda/lib/python2.7/site-packages/flask/app.py\", line 1577, in make_response\n",
      "    rv = self.response_class.force_type(rv, request.environ)\n",
      "  File \"/Users/anaconda/lib/python2.7/site-packages/werkzeug/wrappers.py\", line 841, in force_type\n",
      "    response = BaseResponse(*_run_wsgi_app(response, environ))\n",
      "  File \"/Users/anaconda/lib/python2.7/site-packages/werkzeug/test.py\", line 867, in run_wsgi_app\n",
      "    app_rv = app(environ, start_response)\n",
      "TypeError: 'list' object is not callable\n"
     ]
    },
    {
     "name": "stdout",
     "output_type": "stream",
     "text": [
      "None\n"
     ]
    },
    {
     "name": "stderr",
     "output_type": "stream",
     "text": [
      "127.0.0.1 - - [21/Apr/2017 16:55:10] \"GET /main HTTP/1.1\" 500 -\n",
      "Error on request:\n",
      "Traceback (most recent call last):\n",
      "  File \"/Users/anaconda/lib/python2.7/site-packages/werkzeug/serving.py\", line 180, in run_wsgi\n",
      "    execute(self.server.app)\n",
      "  File \"/Users/anaconda/lib/python2.7/site-packages/werkzeug/serving.py\", line 168, in execute\n",
      "    application_iter = app(environ, start_response)\n",
      "  File \"/Users/anaconda/lib/python2.7/site-packages/flask/app.py\", line 1836, in __call__\n",
      "    return self.wsgi_app(environ, start_response)\n",
      "  File \"/Users/anaconda/lib/python2.7/site-packages/flask/app.py\", line 1820, in wsgi_app\n",
      "    response = self.make_response(self.handle_exception(e))\n",
      "  File \"/Users/anaconda/lib/python2.7/site-packages/flask/app.py\", line 1403, in handle_exception\n",
      "    reraise(exc_type, exc_value, tb)\n",
      "  File \"/Users/anaconda/lib/python2.7/site-packages/flask/app.py\", line 1817, in wsgi_app\n",
      "    response = self.full_dispatch_request()\n",
      "  File \"/Users/anaconda/lib/python2.7/site-packages/flask/app.py\", line 1478, in full_dispatch_request\n",
      "    response = self.make_response(rv)\n",
      "  File \"/Users/anaconda/lib/python2.7/site-packages/flask/app.py\", line 1577, in make_response\n",
      "    rv = self.response_class.force_type(rv, request.environ)\n",
      "  File \"/Users/anaconda/lib/python2.7/site-packages/werkzeug/wrappers.py\", line 841, in force_type\n",
      "    response = BaseResponse(*_run_wsgi_app(response, environ))\n",
      "  File \"/Users/anaconda/lib/python2.7/site-packages/werkzeug/test.py\", line 867, in run_wsgi_app\n",
      "    app_rv = app(environ, start_response)\n",
      "TypeError: 'list' object is not callable\n"
     ]
    },
    {
     "name": "stdout",
     "output_type": "stream",
     "text": [
      "None\n"
     ]
    },
    {
     "name": "stderr",
     "output_type": "stream",
     "text": [
      "127.0.0.1 - - [21/Apr/2017 16:55:15] \"GET /main HTTP/1.1\" 500 -\n",
      "Error on request:\n",
      "Traceback (most recent call last):\n",
      "  File \"/Users/anaconda/lib/python2.7/site-packages/werkzeug/serving.py\", line 180, in run_wsgi\n",
      "    execute(self.server.app)\n",
      "  File \"/Users/anaconda/lib/python2.7/site-packages/werkzeug/serving.py\", line 168, in execute\n",
      "    application_iter = app(environ, start_response)\n",
      "  File \"/Users/anaconda/lib/python2.7/site-packages/flask/app.py\", line 1836, in __call__\n",
      "    return self.wsgi_app(environ, start_response)\n",
      "  File \"/Users/anaconda/lib/python2.7/site-packages/flask/app.py\", line 1820, in wsgi_app\n",
      "    response = self.make_response(self.handle_exception(e))\n",
      "  File \"/Users/anaconda/lib/python2.7/site-packages/flask/app.py\", line 1403, in handle_exception\n",
      "    reraise(exc_type, exc_value, tb)\n",
      "  File \"/Users/anaconda/lib/python2.7/site-packages/flask/app.py\", line 1817, in wsgi_app\n",
      "    response = self.full_dispatch_request()\n",
      "  File \"/Users/anaconda/lib/python2.7/site-packages/flask/app.py\", line 1478, in full_dispatch_request\n",
      "    response = self.make_response(rv)\n",
      "  File \"/Users/anaconda/lib/python2.7/site-packages/flask/app.py\", line 1577, in make_response\n",
      "    rv = self.response_class.force_type(rv, request.environ)\n",
      "  File \"/Users/anaconda/lib/python2.7/site-packages/werkzeug/wrappers.py\", line 841, in force_type\n",
      "    response = BaseResponse(*_run_wsgi_app(response, environ))\n",
      "  File \"/Users/anaconda/lib/python2.7/site-packages/werkzeug/test.py\", line 867, in run_wsgi_app\n",
      "    app_rv = app(environ, start_response)\n",
      "TypeError: 'list' object is not callable\n"
     ]
    },
    {
     "name": "stdout",
     "output_type": "stream",
     "text": [
      "None\n",
      "----------------------------------------\n",
      "Exception happened during processing of request from ('127.0.0.1', 55605)\n",
      "----------------------------------------\n"
     ]
    },
    {
     "name": "stderr",
     "output_type": "stream",
     "text": [
      "Traceback (most recent call last):\n",
      "  File \"/Users/anaconda/lib/python2.7/SocketServer.py\", line 290, in _handle_request_noblock\n",
      "    self.process_request(request, client_address)\n",
      "  File \"/Users/anaconda/lib/python2.7/SocketServer.py\", line 318, in process_request\n",
      "    self.finish_request(request, client_address)\n",
      "  File \"/Users/anaconda/lib/python2.7/SocketServer.py\", line 331, in finish_request\n",
      "    self.RequestHandlerClass(request, client_address, self)\n",
      "  File \"/Users/anaconda/lib/python2.7/SocketServer.py\", line 652, in __init__\n",
      "    self.handle()\n",
      "  File \"/Users/anaconda/lib/python2.7/site-packages/werkzeug/serving.py\", line 203, in handle\n",
      "    rv = BaseHTTPRequestHandler.handle(self)\n",
      "  File \"/Users/anaconda/lib/python2.7/BaseHTTPServer.py\", line 340, in handle\n",
      "    self.handle_one_request()\n",
      "  File \"/Users/anaconda/lib/python2.7/site-packages/werkzeug/serving.py\", line 234, in handle_one_request\n",
      "    self.raw_requestline = self.rfile.readline()\n",
      "  File \"/Users/anaconda/lib/python2.7/socket.py\", line 451, in readline\n",
      "    data = self._sock.recv(self._rbufsize)\n",
      "KeyboardInterrupt\n"
     ]
    }
   ],
   "source": [
    "if __name__ == \"__main__\":\n",
    "    app.run()"
   ]
  },
  {
   "cell_type": "code",
   "execution_count": null,
   "metadata": {
    "collapsed": true
   },
   "outputs": [],
   "source": []
  }
 ],
 "metadata": {
  "anaconda-cloud": {},
  "kernelspec": {
   "display_name": "Python 2",
   "language": "python",
   "name": "python2"
  },
  "language_info": {
   "codemirror_mode": {
    "name": "ipython",
    "version": 2
   },
   "file_extension": ".py",
   "mimetype": "text/x-python",
   "name": "python",
   "nbconvert_exporter": "python",
   "pygments_lexer": "ipython2",
   "version": "2.7.12"
  }
 },
 "nbformat": 4,
 "nbformat_minor": 1
}
